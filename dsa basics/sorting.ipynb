{
 "cells": [
  {
   "cell_type": "code",
   "execution_count": null,
   "id": "959fb45c",
   "metadata": {},
   "outputs": [
    {
     "name": "stdout",
     "output_type": "stream",
     "text": [
      "[1, 1, 2, 3, 3, 3, 4, 4, 4, 6, 89]\n"
     ]
    }
   ],
   "source": [
    "# Using Comparison, O(n^2)\n",
    "def sort(A):\n",
    "    hold = 0\n",
    "    for i in range(len(A)):\n",
    "        for j in range(len(A)-1):\n",
    "            if A[j] > A[j+1]:\n",
    "                hold = A[j]\n",
    "                A[j] = A[j+1]\n",
    "                A[j+1] = hold\n",
    "\n",
    "    return A\n",
    "\n",
    "# example\n",
    "B = [1,4,2,3,6,3,4,89,1,4,3]"
   ]
  },
  {
   "cell_type": "code",
   "execution_count": null,
   "id": "bd0b6b3b",
   "metadata": {},
   "outputs": [],
   "source": [
    "# Merge Sorting, O(nlogn):\n",
    "\n",
    "def mergeSort(A):\n",
    "    mid = len(A) // 2\n",
    "    \n",
    "    left = A[::mid]\n",
    "    right = A[mid::]\n"
   ]
  },
  {
   "cell_type": "code",
   "execution_count": null,
   "id": "d4aa7d7c",
   "metadata": {},
   "outputs": [],
   "source": []
  },
  {
   "cell_type": "code",
   "execution_count": null,
   "id": "b36d0098",
   "metadata": {},
   "outputs": [],
   "source": []
  }
 ],
 "metadata": {
  "kernelspec": {
   "display_name": "Python 3",
   "language": "python",
   "name": "python3"
  },
  "language_info": {
   "codemirror_mode": {
    "name": "ipython",
    "version": 3
   },
   "file_extension": ".py",
   "mimetype": "text/x-python",
   "name": "python",
   "nbconvert_exporter": "python",
   "pygments_lexer": "ipython3",
   "version": "3.11.11"
  }
 },
 "nbformat": 4,
 "nbformat_minor": 5
}
