{
 "cells": [
  {
   "cell_type": "code",
   "execution_count": 1,
   "id": "1c0dd6ad",
   "metadata": {},
   "outputs": [
    {
     "name": "stdout",
     "output_type": "stream",
     "text": [
      "2.5.1\n"
     ]
    }
   ],
   "source": [
    "import torch\n",
    "\n",
    "print(torch.__version__)\n"
   ]
  },
  {
   "cell_type": "code",
   "execution_count": 2,
   "id": "c871fd72",
   "metadata": {},
   "outputs": [
    {
     "name": "stdout",
     "output_type": "stream",
     "text": [
      "OK ✓\n",
      "pandas: 2.3.3\n",
      "numpy: 2.0.1\n",
      "matplotlib: 3.10.7\n",
      "scipy: 1.16.2\n",
      "sklearn: 1.7.2\n",
      "Interpreter: c:\\Users\\jaden\\anaconda3\\envs\\torch\\python.exe\n"
     ]
    }
   ],
   "source": [
    "import sys, subprocess\n",
    "\n",
    "# pkgs = [\"pandas\", \"numpy\", \"matplotlib\", \"scipy\", \"scikit-learn\"]  # <-- scikit-learn not 'sklearn'\n",
    "\n",
    "# upgrade pip first\n",
    "# subprocess.check_call([sys.executable, \"-m\", \"pip\", \"install\", \"--upgrade\", \"pip\"])\n",
    "\n",
    "# install packages\n",
    "# subprocess.check_call([sys.executable, \"-m\", \"pip\", \"install\", *pkgs])\n",
    "\n",
    "# verify\n",
    "import pandas as pd, numpy as np, matplotlib, matplotlib.pyplot as plt, scipy, sklearn\n",
    "print(\"OK ✓\")\n",
    "print(\"pandas:\", pd.__version__)\n",
    "print(\"numpy:\", np.__version__)\n",
    "print(\"matplotlib:\", matplotlib.__version__)\n",
    "print(\"scipy:\", scipy.__version__)\n",
    "print(\"sklearn:\", sklearn.__version__)\n",
    "print(\"Interpreter:\", sys.executable)\n"
   ]
  },
  {
   "cell_type": "code",
   "execution_count": null,
   "id": "bd1719e7",
   "metadata": {},
   "outputs": [
    {
     "data": {
      "text/plain": [
       "torch.Size([1, 3])"
      ]
     },
     "execution_count": 6,
     "metadata": {},
     "output_type": "execute_result"
    }
   ],
   "source": [
    "# TENSORS\n",
    "TENSOR1 = torch.tensor([[[2,4,6],\n",
    "                        [7,3,4],\n",
    "                        [8,-2,4]],\n",
    "    \n",
    "                       [[1,2,3],\n",
    "                        [4,5,6],\n",
    "                        [7,8,9]]])\n",
    "\n",
    "# Shape returns 2,3,3, aka 2 matrices of 3 x 3\n",
    "\n",
    "TENSOR2 = torch.tensor([[1,2,3]])\n",
    "\n",
    "# Shape returns 1,3 aka 1 vector of 1 x 3\n",
    "\n",
    "TENSOR2.shape"
   ]
  },
  {
   "cell_type": "code",
   "execution_count": null,
   "id": "59b27dcd",
   "metadata": {},
   "outputs": [
    {
     "data": {
      "text/plain": [
       "tensor([[[0.3364, 0.9285, 0.9236, 0.1929, 0.7227],\n",
       "         [0.5082, 0.8682, 0.6992, 0.4164, 0.5809],\n",
       "         [0.2212, 0.4566, 0.2961, 0.8038, 0.2789],\n",
       "         [0.0024, 0.8568, 0.5884, 0.4730, 0.4673],\n",
       "         [0.3625, 0.5839, 0.4459, 0.0842, 0.9113]],\n",
       "\n",
       "        [[0.3615, 0.7239, 0.1234, 0.3074, 0.8192],\n",
       "         [0.2665, 0.4818, 0.5851, 0.9250, 0.5110],\n",
       "         [0.8300, 0.3623, 0.4507, 0.3033, 0.4477],\n",
       "         [0.8043, 0.9225, 0.6375, 0.8606, 0.6094],\n",
       "         [0.9123, 0.5993, 0.6110, 0.9731, 0.3603]],\n",
       "\n",
       "        [[0.6363, 0.2885, 0.5394, 0.1487, 0.0798],\n",
       "         [0.6172, 0.9276, 0.2663, 0.8402, 0.0818],\n",
       "         [0.8591, 0.9552, 0.8520, 0.2265, 0.9304],\n",
       "         [0.4171, 0.9092, 0.8169, 0.2157, 0.5270],\n",
       "         [0.4287, 0.9379, 0.1259, 0.6523, 0.1438]],\n",
       "\n",
       "        [[0.2990, 0.0544, 0.1421, 0.9919, 0.7559],\n",
       "         [0.3425, 0.7349, 0.6632, 0.8905, 0.2751],\n",
       "         [0.8903, 0.2649, 0.0773, 0.3934, 0.2204],\n",
       "         [0.8809, 0.5897, 0.9164, 0.2846, 0.1137],\n",
       "         [0.6310, 0.0075, 0.2245, 0.9546, 0.3207]],\n",
       "\n",
       "        [[0.3999, 0.7730, 0.7748, 0.2940, 0.9562],\n",
       "         [0.2716, 0.2554, 0.6361, 0.7382, 0.8285],\n",
       "         [0.7653, 0.5135, 0.8013, 0.9399, 0.8105],\n",
       "         [0.4775, 0.8561, 0.6079, 0.2374, 0.6859],\n",
       "         [0.3233, 0.3176, 0.6430, 0.1561, 0.1305]]])"
      ]
     },
     "execution_count": 9,
     "metadata": {},
     "output_type": "execute_result"
    }
   ],
   "source": [
    "# Random Tensors\n",
    "RT = torch.rand(5,5,5) # dtype is float32\n",
    "RT"
   ]
  },
  {
   "cell_type": "code",
   "execution_count": 10,
   "id": "5eef5fa0",
   "metadata": {},
   "outputs": [],
   "source": [
    "# Examples of random tensors used in DL\n",
    "image_tensor = torch.rand(size=(3,224,224)) # 3 colour layers (RGB), 224 height, 224 width\n",
    "\n",
    "# Zeros and Ones\n",
    "zeros = torch.zeros(size=(3,4))\n",
    "ones = torch.ones(size=(3,4))"
   ]
  },
  {
   "cell_type": "code",
   "execution_count": null,
   "id": "5a984def",
   "metadata": {},
   "outputs": [
    {
     "name": "stderr",
     "output_type": "stream",
     "text": [
      "C:\\Users\\jaden\\AppData\\Local\\Temp\\ipykernel_9220\\3568091142.py:1: UserWarning: torch.range is deprecated and will be removed in a future release because its behavior is inconsistent with Python's range builtin. Instead, use torch.arange, which produces values in [start, end).\n",
      "  a = torch.range(1,11,1)\n"
     ]
    },
    {
     "data": {
      "text/plain": [
       "tensor([0., 0., 0., 0., 0., 0., 0., 0., 0., 0., 0.])"
      ]
     },
     "execution_count": 15,
     "metadata": {},
     "output_type": "execute_result"
    }
   ],
   "source": [
    "a = torch.range(1,11,1) # Creates a range of values between input and output\n",
    "b = torch.zeros_like(input=a) # Creates another tensor with the same shape as input tensor\n",
    "b"
   ]
  },
  {
   "cell_type": "code",
   "execution_count": null,
   "id": "2a37e3f8",
   "metadata": {},
   "outputs": [
    {
     "data": {
      "text/plain": [
       "(torch.float32, torch.Size([11]), torch.Size([11]))"
      ]
     },
     "execution_count": 16,
     "metadata": {},
     "output_type": "execute_result"
    },
    {
     "ename": "",
     "evalue": "",
     "output_type": "error",
     "traceback": [
      "\u001b[1;31mThe Kernel crashed while executing code in the current cell or a previous cell. \n",
      "\u001b[1;31mPlease review the code in the cell(s) to identify a possible cause of the failure. \n",
      "\u001b[1;31mClick <a href='https://aka.ms/vscodeJupyterKernelCrash'>here</a> for more info. \n",
      "\u001b[1;31mView Jupyter <a href='command:jupyter.viewOutput'>log</a> for further details."
     ]
    }
   ],
   "source": [
    "# Tensor attributes, .shape, .size(), .dtype\n",
    "a.dtype, a.size(), a.shape"
   ]
  },
  {
   "cell_type": "code",
   "execution_count": null,
   "id": "27aff74a",
   "metadata": {},
   "outputs": [],
   "source": []
  }
 ],
 "metadata": {
  "kernelspec": {
   "display_name": "torch",
   "language": "python",
   "name": "python3"
  },
  "language_info": {
   "codemirror_mode": {
    "name": "ipython",
    "version": 3
   },
   "file_extension": ".py",
   "mimetype": "text/x-python",
   "name": "python",
   "nbconvert_exporter": "python",
   "pygments_lexer": "ipython3",
   "version": "3.11.14"
  }
 },
 "nbformat": 4,
 "nbformat_minor": 5
}
