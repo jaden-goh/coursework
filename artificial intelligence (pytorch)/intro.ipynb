{
 "cells": [
  {
   "cell_type": "code",
   "execution_count": 9,
   "id": "1c0dd6ad",
   "metadata": {},
   "outputs": [
    {
     "name": "stdout",
     "output_type": "stream",
     "text": [
      "2.5.1\n"
     ]
    }
   ],
   "source": [
    "import torch\n",
    "\n",
    "print(torch.__version__)\n"
   ]
  },
  {
   "cell_type": "code",
   "execution_count": 10,
   "id": "c871fd72",
   "metadata": {},
   "outputs": [
    {
     "name": "stdout",
     "output_type": "stream",
     "text": [
      "OK ✓\n",
      "pandas: 2.3.3\n",
      "numpy: 2.0.1\n",
      "matplotlib: 3.10.7\n",
      "scipy: 1.16.2\n",
      "sklearn: 1.7.2\n",
      "Interpreter: c:\\Users\\jaden\\anaconda3\\envs\\torch\\python.exe\n"
     ]
    }
   ],
   "source": [
    "import sys, subprocess\n",
    "\n",
    "# pkgs = [\"pandas\", \"numpy\", \"matplotlib\", \"scipy\", \"scikit-learn\"]  # <-- scikit-learn not 'sklearn'\n",
    "\n",
    "# upgrade pip first\n",
    "# subprocess.check_call([sys.executable, \"-m\", \"pip\", \"install\", \"--upgrade\", \"pip\"])\n",
    "\n",
    "# install packages\n",
    "# subprocess.check_call([sys.executable, \"-m\", \"pip\", \"install\", *pkgs])\n",
    "\n",
    "# verify\n",
    "import pandas as pd, numpy as np, matplotlib, matplotlib.pyplot as plt, scipy, sklearn\n",
    "print(\"OK ✓\")\n",
    "print(\"pandas:\", pd.__version__)\n",
    "print(\"numpy:\", np.__version__)\n",
    "print(\"matplotlib:\", matplotlib.__version__)\n",
    "print(\"scipy:\", scipy.__version__)\n",
    "print(\"sklearn:\", sklearn.__version__)\n",
    "print(\"Interpreter:\", sys.executable)\n"
   ]
  },
  {
   "cell_type": "code",
   "execution_count": null,
   "id": "bd1719e7",
   "metadata": {},
   "outputs": [],
   "source": []
  },
  {
   "cell_type": "code",
   "execution_count": null,
   "id": "59b27dcd",
   "metadata": {},
   "outputs": [],
   "source": []
  },
  {
   "cell_type": "code",
   "execution_count": null,
   "id": "5eef5fa0",
   "metadata": {},
   "outputs": [],
   "source": []
  }
 ],
 "metadata": {
  "kernelspec": {
   "display_name": "torch",
   "language": "python",
   "name": "python3"
  },
  "language_info": {
   "codemirror_mode": {
    "name": "ipython",
    "version": 3
   },
   "file_extension": ".py",
   "mimetype": "text/x-python",
   "name": "python",
   "nbconvert_exporter": "python",
   "pygments_lexer": "ipython3",
   "version": "3.11.14"
  }
 },
 "nbformat": 4,
 "nbformat_minor": 5
}
